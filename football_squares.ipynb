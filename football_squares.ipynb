{
 "cells": [
  {
   "cell_type": "markdown",
   "id": "decimal-fifty",
   "metadata": {},
   "source": [
    "A python script for generating Superbowl Football (or basketball, any sport) game squares. It is suitable for any number of entries because it programatically scales / converts entries to a 10x10 grid and also allows for the empties after scaling to be assigned to a non-entrant.\n",
    "\n",
    "Input: Accepts a csv file with a list of names and number of squares to assign to that person. No column headers should be used.\n",
    "\n",
    "Output: An excel file with with the names assigned"
   ]
  },
  {
   "cell_type": "code",
   "execution_count": 71,
   "id": "sustained-charity",
   "metadata": {},
   "outputs": [],
   "source": [
    "import random\n",
    "import datetime\n",
    "import time\n",
    "import pandas as pd\n",
    "\n",
    "# Get input csv and output csv names\n",
    "from collections import defaultdict, Counter\n",
    "\n",
    "#initialize variables\n",
    "input_file = 'input.csv' \n",
    "out_file = 'squares.xlsx'\n",
    "EMPTY = \"PAWS\" # Unsold squares (eg Sold 75 squares, remaining 25 squares are assigned to \"PAWS\")\n",
    "grid = None\n",
    "\n",
    "# read input, entries, num_entries\n",
    "df = pd.read_csv(input_file,header=None)\n",
    "\n",
    "# convert squares sold to a 100 square format (eg If 25 squares sold, then squares sold = num_entries * 4)\n",
    "if df[1].sum() <= 25 : df[1] *= 4\n",
    "if df[1].sum() <= 50 : df[1] *= 2\n",
    "\n",
    "# append row for unsold squares assigned to EMPTY\n",
    "unsold_row = {0:EMPTY, 1:100-df[1].sum()}\n",
    "df = df.append(unsold_row, ignore_index=True)\n",
    "\n",
    "# convert df to list of tuples entries\n",
    "entries = list(df.itertuples(index=False, name=None))\n",
    "\n",
    "# A seed for the random generator. I fix the seed so rerunning the script will not\n",
    "# allow for gaming the random generator to the benefit of the person running it.\n",
    "SEED_TIME = datetime.datetime(2028, 2, 4, 16, 20, 0, 0)\n",
    "entries = defaultdict(int)\n",
    "\n",
    "# Generate seed for random based on date and time of drawing and\n",
    "# number of people participating\n",
    "t = SEED_TIME.timetuple()\n",
    "seed = int(time.mktime(t) * df.shape[0])\n",
    "rdm = random.Random(seed)\n",
    "\n",
    "# generate a list of possible last digit scores for a game\n",
    "border_boxes = [(nfc, afc) for nfc in range(0, 10) for afc in range(0, 10)]\n",
    "\n",
    "# shuffle entries and empty_boxes like a deck of cards to drive random number assignments\n",
    "rdm.shuffle(border_boxes)\n",
    "rdm.shuffle(entries)\n",
    "entries_boxes = defaultdict(list)\n",
    "\n",
    "# sample num of boxes from empty_boxes\n",
    "for s, n in entries :\n",
    "    entries_boxes[s] += [border_boxes.pop(0) for _ in range(n)] \n",
    "\n",
    "# make empty 10x10 grid\n",
    "grid = [['' for _ in range(0, 10)] for _ in range(0, 10)]\n",
    "\n",
    "# assign entries to element in grid\n",
    "for s, boxes in entries_boxes.items():\n",
    "    for r, c in boxes:\n",
    "        grid[r][c] = s\n",
    "        \n",
    "# output grid to excel spreadsheet\n",
    "pd.DataFrame(data=grid).to_excel(out_file)\n"
   ]
  },
  {
   "cell_type": "code",
   "execution_count": null,
   "id": "dated-tissue",
   "metadata": {},
   "outputs": [],
   "source": []
  },
  {
   "cell_type": "code",
   "execution_count": null,
   "id": "closed-willow",
   "metadata": {},
   "outputs": [],
   "source": []
  },
  {
   "cell_type": "code",
   "execution_count": null,
   "id": "strong-connecticut",
   "metadata": {},
   "outputs": [],
   "source": []
  },
  {
   "cell_type": "code",
   "execution_count": null,
   "id": "precise-drunk",
   "metadata": {},
   "outputs": [],
   "source": []
  }
 ],
 "metadata": {
  "kernelspec": {
   "display_name": "Python 3",
   "language": "python",
   "name": "python3"
  },
  "language_info": {
   "codemirror_mode": {
    "name": "ipython",
    "version": 3
   },
   "file_extension": ".py",
   "mimetype": "text/x-python",
   "name": "python",
   "nbconvert_exporter": "python",
   "pygments_lexer": "ipython3",
   "version": "3.8.5"
  }
 },
 "nbformat": 4,
 "nbformat_minor": 5
}
